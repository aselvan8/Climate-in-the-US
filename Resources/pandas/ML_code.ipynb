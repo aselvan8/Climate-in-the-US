{
 "cells": [
  {
   "cell_type": "code",
   "execution_count": 1,
   "metadata": {},
   "outputs": [],
   "source": [
    "import pandas as pd"
   ]
  },
  {
   "cell_type": "code",
   "execution_count": 2,
   "metadata": {},
   "outputs": [],
   "source": [
    "path = \"../../data/cleaned/merged_sales.csv\"\n",
    "car_sales = pd.read_csv(path)"
   ]
  },
  {
   "cell_type": "code",
   "execution_count": 3,
   "metadata": {},
   "outputs": [],
   "source": [
    "car_sales2 = car_sales.reset_index(drop=True).set_index(\"Category\")\n",
    "car_sales3 = car_sales2.T.reset_index()\n",
    "car_sales3.rename(columns={\"index\": \"year\"}, inplace=True)\n",
    "car_sales3.rename(columns={\"EV Sales\": \"ev_sales\", \"PHEV Sales\": \"phev_sales\", \"Production, total\": \"tot_prod\", \"Domestic sales, totalb\": \"tot_sales\"}, inplace=True)"
   ]
  },
  {
   "cell_type": "code",
   "execution_count": 4,
   "metadata": {},
   "outputs": [
    {
     "name": "stderr",
     "output_type": "stream",
     "text": [
      "/Users/juanferc/opt/anaconda3/lib/python3.7/site-packages/ipykernel_launcher.py:2: SettingWithCopyWarning: \n",
      "A value is trying to be set on a copy of a slice from a DataFrame.\n",
      "Try using .loc[row_indexer,col_indexer] = value instead\n",
      "\n",
      "See the caveats in the documentation: https://pandas.pydata.org/pandas-docs/stable/user_guide/indexing.html#returning-a-view-versus-a-copy\n",
      "  \n"
     ]
    },
    {
     "data": {
      "text/html": [
       "<div>\n",
       "<style scoped>\n",
       "    .dataframe tbody tr th:only-of-type {\n",
       "        vertical-align: middle;\n",
       "    }\n",
       "\n",
       "    .dataframe tbody tr th {\n",
       "        vertical-align: top;\n",
       "    }\n",
       "\n",
       "    .dataframe thead th {\n",
       "        text-align: right;\n",
       "    }\n",
       "</style>\n",
       "<table border=\"1\" class=\"dataframe\">\n",
       "  <thead>\n",
       "    <tr style=\"text-align: right;\">\n",
       "      <th>Category</th>\n",
       "      <th>year</th>\n",
       "      <th>ev_sales</th>\n",
       "      <th>phev_sales</th>\n",
       "      <th>tot_prod</th>\n",
       "      <th>tot_sales</th>\n",
       "    </tr>\n",
       "  </thead>\n",
       "  <tbody>\n",
       "    <tr>\n",
       "      <th>0</th>\n",
       "      <td>2011</td>\n",
       "      <td>10092</td>\n",
       "      <td>7671</td>\n",
       "      <td>8662000</td>\n",
       "      <td>10109000</td>\n",
       "    </tr>\n",
       "    <tr>\n",
       "      <th>1</th>\n",
       "      <td>2012</td>\n",
       "      <td>14587</td>\n",
       "      <td>38584</td>\n",
       "      <td>10336000</td>\n",
       "      <td>11582000</td>\n",
       "    </tr>\n",
       "    <tr>\n",
       "      <th>2</th>\n",
       "      <td>2013</td>\n",
       "      <td>48094</td>\n",
       "      <td>49008</td>\n",
       "      <td>11067000</td>\n",
       "      <td>12479000</td>\n",
       "    </tr>\n",
       "    <tr>\n",
       "      <th>3</th>\n",
       "      <td>2014</td>\n",
       "      <td>63525</td>\n",
       "      <td>55357</td>\n",
       "      <td>11661000</td>\n",
       "      <td>13389000</td>\n",
       "    </tr>\n",
       "    <tr>\n",
       "      <th>4</th>\n",
       "      <td>2015</td>\n",
       "      <td>71064</td>\n",
       "      <td>42959</td>\n",
       "      <td>12106000</td>\n",
       "      <td>14128000</td>\n",
       "    </tr>\n",
       "  </tbody>\n",
       "</table>\n",
       "</div>"
      ],
      "text/plain": [
       "Category  year  ev_sales  phev_sales  tot_prod  tot_sales\n",
       "0         2011     10092        7671   8662000   10109000\n",
       "1         2012     14587       38584  10336000   11582000\n",
       "2         2013     48094       49008  11067000   12479000\n",
       "3         2014     63525       55357  11661000   13389000\n",
       "4         2015     71064       42959  12106000   14128000"
      ]
     },
     "execution_count": 4,
     "metadata": {},
     "output_type": "execute_result"
    }
   ],
   "source": [
    "car_sales4 = car_sales3.drop(['Passenger cars', 'Commercial vehiclesa', 'Passenger cars', 'Commercial vehiclesa'], axis=1)\n",
    "car_sales4[\"year\"] = car_sales4[\"year\"].astype(int)\n",
    "car_sales4.head()"
   ]
  },
  {
   "cell_type": "code",
   "execution_count": 5,
   "metadata": {},
   "outputs": [],
   "source": [
    "path2 = \"../../data/cleaned/merged_energy_emission.csv\"\n",
    "emission_energy = pd.read_csv(path2)\n",
    "# emission_energy.columns\n",
    "\n",
    "# unit of renewable energy - Trillion BTU, emission unit - Million Metric tons "
   ]
  },
  {
   "cell_type": "code",
   "execution_count": 6,
   "metadata": {},
   "outputs": [
    {
     "data": {
      "text/html": [
       "<div>\n",
       "<style scoped>\n",
       "    .dataframe tbody tr th:only-of-type {\n",
       "        vertical-align: middle;\n",
       "    }\n",
       "\n",
       "    .dataframe tbody tr th {\n",
       "        vertical-align: top;\n",
       "    }\n",
       "\n",
       "    .dataframe thead th {\n",
       "        text-align: right;\n",
       "    }\n",
       "</style>\n",
       "<table border=\"1\" class=\"dataframe\">\n",
       "  <thead>\n",
       "    <tr style=\"text-align: right;\">\n",
       "      <th></th>\n",
       "      <th>year</th>\n",
       "      <th>total_emission</th>\n",
       "      <th>transportation_emission</th>\n",
       "      <th>motor_emission</th>\n",
       "      <th>tot_ren_energy</th>\n",
       "    </tr>\n",
       "  </thead>\n",
       "  <tbody>\n",
       "    <tr>\n",
       "      <th>0</th>\n",
       "      <td>1990</td>\n",
       "      <td>5,039.90</td>\n",
       "      <td>1,587.60</td>\n",
       "      <td>966.8</td>\n",
       "      <td>6040.024</td>\n",
       "    </tr>\n",
       "    <tr>\n",
       "      <th>1</th>\n",
       "      <td>1991</td>\n",
       "      <td>4,994.60</td>\n",
       "      <td>1,567.90</td>\n",
       "      <td>962.4</td>\n",
       "      <td>6067.785</td>\n",
       "    </tr>\n",
       "    <tr>\n",
       "      <th>2</th>\n",
       "      <td>1992</td>\n",
       "      <td>5,094.90</td>\n",
       "      <td>1,591.60</td>\n",
       "      <td>979.1</td>\n",
       "      <td>5820.556</td>\n",
       "    </tr>\n",
       "    <tr>\n",
       "      <th>3</th>\n",
       "      <td>1993</td>\n",
       "      <td>5,185.80</td>\n",
       "      <td>1,604.20</td>\n",
       "      <td>993.1</td>\n",
       "      <td>6081.635</td>\n",
       "    </tr>\n",
       "    <tr>\n",
       "      <th>4</th>\n",
       "      <td>1994</td>\n",
       "      <td>5,263.60</td>\n",
       "      <td>1,644.10</td>\n",
       "      <td>1,004.10</td>\n",
       "      <td>5987.142</td>\n",
       "    </tr>\n",
       "  </tbody>\n",
       "</table>\n",
       "</div>"
      ],
      "text/plain": [
       "   year total_emission transportation_emission motor_emission  tot_ren_energy\n",
       "0  1990       5,039.90                1,587.60          966.8        6040.024\n",
       "1  1991       4,994.60                1,567.90          962.4        6067.785\n",
       "2  1992       5,094.90                1,591.60          979.1        5820.556\n",
       "3  1993       5,185.80                1,604.20          993.1        6081.635\n",
       "4  1994       5,263.60                1,644.10       1,004.10        5987.142"
      ]
     },
     "execution_count": 6,
     "metadata": {},
     "output_type": "execute_result"
    }
   ],
   "source": [
    "emission_energy2 = emission_energy[[\"year\",\"total_emission\", \"transportation_emission\", \"motor_emission\", \"total renewable energy consumption\"]]\n",
    "\n",
    "emission_energy3 = emission_energy2.rename(columns={\"total renewable energy consumption\": \"tot_ren_energy\"})\n",
    "# emission_energy3 = emission_energy3.astype(float64)\n",
    "emission_energy3.head()\n",
    "\n",
    "# df = df.astype(int)"
   ]
  },
  {
   "cell_type": "code",
   "execution_count": 7,
   "metadata": {},
   "outputs": [
    {
     "data": {
      "text/html": [
       "<div>\n",
       "<style scoped>\n",
       "    .dataframe tbody tr th:only-of-type {\n",
       "        vertical-align: middle;\n",
       "    }\n",
       "\n",
       "    .dataframe tbody tr th {\n",
       "        vertical-align: top;\n",
       "    }\n",
       "\n",
       "    .dataframe thead th {\n",
       "        text-align: right;\n",
       "    }\n",
       "</style>\n",
       "<table border=\"1\" class=\"dataframe\">\n",
       "  <thead>\n",
       "    <tr style=\"text-align: right;\">\n",
       "      <th></th>\n",
       "      <th>year</th>\n",
       "      <th>ev_sales</th>\n",
       "      <th>phev_sales</th>\n",
       "      <th>tot_prod</th>\n",
       "      <th>tot_sales</th>\n",
       "      <th>total_emission</th>\n",
       "      <th>transportation_emission</th>\n",
       "      <th>motor_emission</th>\n",
       "      <th>tot_ren_energy</th>\n",
       "    </tr>\n",
       "  </thead>\n",
       "  <tbody>\n",
       "    <tr>\n",
       "      <th>0</th>\n",
       "      <td>2011</td>\n",
       "      <td>10092</td>\n",
       "      <td>7671</td>\n",
       "      <td>8662000</td>\n",
       "      <td>10109000</td>\n",
       "      <td>5,445.70</td>\n",
       "      <td>1,809.00</td>\n",
       "      <td>1,057.00</td>\n",
       "      <td>9204.160</td>\n",
       "    </tr>\n",
       "    <tr>\n",
       "      <th>1</th>\n",
       "      <td>2012</td>\n",
       "      <td>14587</td>\n",
       "      <td>38584</td>\n",
       "      <td>10336000</td>\n",
       "      <td>11582000</td>\n",
       "      <td>5,229.00</td>\n",
       "      <td>1,773.40</td>\n",
       "      <td>1,051.10</td>\n",
       "      <td>8847.119</td>\n",
       "    </tr>\n",
       "    <tr>\n",
       "      <th>2</th>\n",
       "      <td>2013</td>\n",
       "      <td>48094</td>\n",
       "      <td>49008</td>\n",
       "      <td>11067000</td>\n",
       "      <td>12479000</td>\n",
       "      <td>5,356.00</td>\n",
       "      <td>1,796.40</td>\n",
       "      <td>1,066.00</td>\n",
       "      <td>9450.625</td>\n",
       "    </tr>\n",
       "    <tr>\n",
       "      <th>3</th>\n",
       "      <td>2014</td>\n",
       "      <td>63525</td>\n",
       "      <td>55357</td>\n",
       "      <td>11661000</td>\n",
       "      <td>13389000</td>\n",
       "      <td>5,413.20</td>\n",
       "      <td>1,814.90</td>\n",
       "      <td>1,077.20</td>\n",
       "      <td>9740.360</td>\n",
       "    </tr>\n",
       "    <tr>\n",
       "      <th>4</th>\n",
       "      <td>2015</td>\n",
       "      <td>71064</td>\n",
       "      <td>42959</td>\n",
       "      <td>12106000</td>\n",
       "      <td>14128000</td>\n",
       "      <td>5,262.90</td>\n",
       "      <td>1,838.80</td>\n",
       "      <td>1,083.10</td>\n",
       "      <td>9720.544</td>\n",
       "    </tr>\n",
       "  </tbody>\n",
       "</table>\n",
       "</div>"
      ],
      "text/plain": [
       "   year  ev_sales  phev_sales  tot_prod  tot_sales total_emission  \\\n",
       "0  2011     10092        7671   8662000   10109000       5,445.70   \n",
       "1  2012     14587       38584  10336000   11582000       5,229.00   \n",
       "2  2013     48094       49008  11067000   12479000       5,356.00   \n",
       "3  2014     63525       55357  11661000   13389000       5,413.20   \n",
       "4  2015     71064       42959  12106000   14128000       5,262.90   \n",
       "\n",
       "  transportation_emission motor_emission  tot_ren_energy  \n",
       "0                1,809.00       1,057.00        9204.160  \n",
       "1                1,773.40       1,051.10        8847.119  \n",
       "2                1,796.40       1,066.00        9450.625  \n",
       "3                1,814.90       1,077.20        9740.360  \n",
       "4                1,838.80       1,083.10        9720.544  "
      ]
     },
     "execution_count": 7,
     "metadata": {},
     "output_type": "execute_result"
    }
   ],
   "source": [
    "merge_df = pd.merge(left=car_sales4, right=emission_energy3, left_on='year', right_on='year')\n",
    "merge_df.head()\n",
    "# merge_df.to_csv(\"../../data/final_merged_data.csv\")"
   ]
  },
  {
   "cell_type": "code",
   "execution_count": 8,
   "metadata": {},
   "outputs": [],
   "source": [
    "%matplotlib inline\n",
    "import matplotlib.pyplot as plt\n",
    "import numpy as np"
   ]
  },
  {
   "cell_type": "code",
   "execution_count": 9,
   "metadata": {},
   "outputs": [
    {
     "data": {
      "text/html": [
       "<div>\n",
       "<style scoped>\n",
       "    .dataframe tbody tr th:only-of-type {\n",
       "        vertical-align: middle;\n",
       "    }\n",
       "\n",
       "    .dataframe tbody tr th {\n",
       "        vertical-align: top;\n",
       "    }\n",
       "\n",
       "    .dataframe thead th {\n",
       "        text-align: right;\n",
       "    }\n",
       "</style>\n",
       "<table border=\"1\" class=\"dataframe\">\n",
       "  <thead>\n",
       "    <tr style=\"text-align: right;\">\n",
       "      <th></th>\n",
       "      <th>Unnamed: 0</th>\n",
       "      <th>year</th>\n",
       "      <th>ev_sales</th>\n",
       "      <th>phev_sales</th>\n",
       "      <th>tot_prod</th>\n",
       "      <th>tot_sales</th>\n",
       "      <th>total_emission</th>\n",
       "      <th>transportation_emission</th>\n",
       "      <th>motor_emission</th>\n",
       "      <th>tot_ren_energy</th>\n",
       "    </tr>\n",
       "  </thead>\n",
       "  <tbody>\n",
       "    <tr>\n",
       "      <th>0</th>\n",
       "      <td>0</td>\n",
       "      <td>2011</td>\n",
       "      <td>10092</td>\n",
       "      <td>7671</td>\n",
       "      <td>8662000</td>\n",
       "      <td>10109000</td>\n",
       "      <td>5,445.70</td>\n",
       "      <td>1,809.00</td>\n",
       "      <td>1,057.00</td>\n",
       "      <td>9204.160</td>\n",
       "    </tr>\n",
       "    <tr>\n",
       "      <th>1</th>\n",
       "      <td>1</td>\n",
       "      <td>2012</td>\n",
       "      <td>14587</td>\n",
       "      <td>38584</td>\n",
       "      <td>10336000</td>\n",
       "      <td>11582000</td>\n",
       "      <td>5,229.00</td>\n",
       "      <td>1,773.40</td>\n",
       "      <td>1,051.10</td>\n",
       "      <td>8847.119</td>\n",
       "    </tr>\n",
       "    <tr>\n",
       "      <th>2</th>\n",
       "      <td>2</td>\n",
       "      <td>2013</td>\n",
       "      <td>48094</td>\n",
       "      <td>49008</td>\n",
       "      <td>11067000</td>\n",
       "      <td>12479000</td>\n",
       "      <td>5,356.00</td>\n",
       "      <td>1,796.40</td>\n",
       "      <td>1,066.00</td>\n",
       "      <td>9450.625</td>\n",
       "    </tr>\n",
       "    <tr>\n",
       "      <th>3</th>\n",
       "      <td>3</td>\n",
       "      <td>2014</td>\n",
       "      <td>63525</td>\n",
       "      <td>55357</td>\n",
       "      <td>11661000</td>\n",
       "      <td>13389000</td>\n",
       "      <td>5,413.20</td>\n",
       "      <td>1,814.90</td>\n",
       "      <td>1,077.20</td>\n",
       "      <td>9740.360</td>\n",
       "    </tr>\n",
       "    <tr>\n",
       "      <th>4</th>\n",
       "      <td>4</td>\n",
       "      <td>2015</td>\n",
       "      <td>71064</td>\n",
       "      <td>42959</td>\n",
       "      <td>12106000</td>\n",
       "      <td>14128000</td>\n",
       "      <td>5,262.90</td>\n",
       "      <td>1,838.80</td>\n",
       "      <td>1,083.10</td>\n",
       "      <td>9720.544</td>\n",
       "    </tr>\n",
       "    <tr>\n",
       "      <th>5</th>\n",
       "      <td>5</td>\n",
       "      <td>2016</td>\n",
       "      <td>86731</td>\n",
       "      <td>772885</td>\n",
       "      <td>12180000</td>\n",
       "      <td>13969000</td>\n",
       "      <td>5,170.40</td>\n",
       "      <td>1,871.00</td>\n",
       "      <td>1,101.60</td>\n",
       "      <td>10362.530</td>\n",
       "    </tr>\n",
       "    <tr>\n",
       "      <th>6</th>\n",
       "      <td>6</td>\n",
       "      <td>2017</td>\n",
       "      <td>104492</td>\n",
       "      <td>91089</td>\n",
       "      <td>11190000</td>\n",
       "      <td>13644000</td>\n",
       "      <td>5,130.70</td>\n",
       "      <td>1,887.50</td>\n",
       "      <td>1,098.90</td>\n",
       "      <td>11076.515</td>\n",
       "    </tr>\n",
       "    <tr>\n",
       "      <th>7</th>\n",
       "      <td>7</td>\n",
       "      <td>2018</td>\n",
       "      <td>238823</td>\n",
       "      <td>122492</td>\n",
       "      <td>11298000</td>\n",
       "      <td>13717000</td>\n",
       "      <td>5,280.90</td>\n",
       "      <td>1,917.80</td>\n",
       "      <td>1,099.00</td>\n",
       "      <td>11300.980</td>\n",
       "    </tr>\n",
       "  </tbody>\n",
       "</table>\n",
       "</div>"
      ],
      "text/plain": [
       "   Unnamed: 0  year  ev_sales  phev_sales  tot_prod  tot_sales total_emission  \\\n",
       "0           0  2011     10092        7671   8662000   10109000       5,445.70   \n",
       "1           1  2012     14587       38584  10336000   11582000       5,229.00   \n",
       "2           2  2013     48094       49008  11067000   12479000       5,356.00   \n",
       "3           3  2014     63525       55357  11661000   13389000       5,413.20   \n",
       "4           4  2015     71064       42959  12106000   14128000       5,262.90   \n",
       "5           5  2016     86731      772885  12180000   13969000       5,170.40   \n",
       "6           6  2017    104492       91089  11190000   13644000       5,130.70   \n",
       "7           7  2018    238823      122492  11298000   13717000       5,280.90   \n",
       "\n",
       "  transportation_emission motor_emission  tot_ren_energy  \n",
       "0                1,809.00       1,057.00        9204.160  \n",
       "1                1,773.40       1,051.10        8847.119  \n",
       "2                1,796.40       1,066.00        9450.625  \n",
       "3                1,814.90       1,077.20        9740.360  \n",
       "4                1,838.80       1,083.10        9720.544  \n",
       "5                1,871.00       1,101.60       10362.530  \n",
       "6                1,887.50       1,098.90       11076.515  \n",
       "7                1,917.80       1,099.00       11300.980  "
      ]
     },
     "execution_count": 9,
     "metadata": {},
     "output_type": "execute_result"
    }
   ],
   "source": [
    "final_df = pd.read_csv(\"../../data/final_merged_data.csv\")\n",
    "final_df.head(100)"
   ]
  },
  {
   "cell_type": "code",
   "execution_count": 10,
   "metadata": {},
   "outputs": [],
   "source": [
    "finalized_df = final_df.drop([\"Unnamed: 0\"], axis=1)"
   ]
  },
  {
   "cell_type": "code",
   "execution_count": 11,
   "metadata": {},
   "outputs": [],
   "source": [
    "finalized_df[\"total_emission\"] = finalized_df[\"total_emission\"].apply(lambda x: float(x.split()[0].replace(',', '')))\n",
    "finalized_df[\"transportation_emission\"] = finalized_df[\"transportation_emission\"].apply(lambda x: float(x.split()[0].replace(',', '')))\n",
    "finalized_df[\"motor_emission\"] = finalized_df[\"motor_emission\"].apply(lambda x: float(x.split()[0].replace(',', '')))"
   ]
  },
  {
   "cell_type": "code",
   "execution_count": 12,
   "metadata": {},
   "outputs": [
    {
     "data": {
      "text/plain": [
       "year                         int64\n",
       "ev_sales                     int64\n",
       "phev_sales                   int64\n",
       "tot_prod                     int64\n",
       "tot_sales                    int64\n",
       "total_emission             float64\n",
       "transportation_emission    float64\n",
       "motor_emission             float64\n",
       "tot_ren_energy             float64\n",
       "dtype: object"
      ]
     },
     "execution_count": 12,
     "metadata": {},
     "output_type": "execute_result"
    }
   ],
   "source": [
    "finalized_df.dtypes"
   ]
  },
  {
   "cell_type": "code",
   "execution_count": 13,
   "metadata": {},
   "outputs": [],
   "source": [
    "# R2 = 0.96\n",
    "# X = finalized_df[[\"year\"]]\n",
    "# y = finalized_df[\"ev_sales\"].values.reshape(-1,1)\n",
    "\n",
    "# # R2 = 0.47 - There is moderate linear relationship between EV sales and renewable energy production\n",
    "# X = finalized_df[[\"tot_sales\",\"tot_ren_energy\"]]\n",
    "# y = finalized_df[\"ev_sales\"].values.reshape(-1,1)\n",
    "\n",
    "# R2 = -0.2 - No correlation exists between EV sales and motor vehicle CO2 emission rates\n",
    "X = finalized_df[[\"year\"]]\n",
    "y = finalized_df[\"ev_sales\"].values.reshape(-1,1)\n",
    "# R2 = 0.91\n",
    "# X = finalized_df[[\"tot_sales\",\"tot_ren_energy\"]]\n",
    "# y = finalized_df[\"year\"].values.reshape(-1,1)\n",
    "\n",
    "# R2 = -0.23\n",
    "# X = finalized_df[[\"phev_sales\",\"motor_emission\"]]\n",
    "# y = finalized_df[\"year\"].values.reshape(-1,1)"
   ]
  },
  {
   "cell_type": "code",
   "execution_count": 14,
   "metadata": {},
   "outputs": [],
   "source": [
    "from sklearn.model_selection import train_test_split\n",
    "X_train, X_test, y_train, y_test = train_test_split(X, y, random_state=42)"
   ]
  },
  {
   "cell_type": "code",
   "execution_count": 15,
   "metadata": {},
   "outputs": [],
   "source": [
    "from sklearn.linear_model import LinearRegression\n",
    "model = LinearRegression()"
   ]
  },
  {
   "cell_type": "code",
   "execution_count": 16,
   "metadata": {},
   "outputs": [
    {
     "name": "stdout",
     "output_type": "stream",
     "text": [
      "Weight coefficients:  [[25882.04761905]]\n",
      "y-axis intercept:  [-52059708.92857141]\n"
     ]
    }
   ],
   "source": [
    "model.fit(X, y)\n",
    "print('Weight coefficients: ', model.coef_)\n",
    "print('y-axis intercept: ', model.intercept_)"
   ]
  },
  {
   "cell_type": "code",
   "execution_count": 17,
   "metadata": {},
   "outputs": [
    {
     "name": "stdout",
     "output_type": "stream",
     "text": [
      "Training Score: 0.7770216802046521\n",
      "Testing Score: 0.419827669997033\n"
     ]
    }
   ],
   "source": [
    "model.fit(X_train, y_train)\n",
    "training_score = model.score(X_train, y_train)\n",
    "testing_score = model.score(X_test, y_test)\n",
    "\n",
    "# Revising values of training and testing score\n",
    "print(f\"Training Score: {training_score}\")\n",
    "print(f\"Testing Score: {testing_score}\")"
   ]
  },
  {
   "cell_type": "code",
   "execution_count": 18,
   "metadata": {},
   "outputs": [
    {
     "name": "stdout",
     "output_type": "stream",
     "text": [
      "MSE: 754913960.6559393, R2: 0.419827669997033\n"
     ]
    }
   ],
   "source": [
    "from sklearn.metrics import mean_squared_error\n",
    "predictions = model.predict(X_test)\n",
    "MSE = mean_squared_error(y_test, predictions)\n",
    "r2 = model.score(X_test, y_test)\n",
    "\n",
    "# Revising productivity of model by printing Mean Standard Error and R2 score\n",
    "print(f\"MSE: {MSE}, R2: {r2}\")"
   ]
  },
  {
   "cell_type": "code",
   "execution_count": 19,
   "metadata": {},
   "outputs": [
    {
     "data": {
      "text/plain": [
       "LinearRegression(copy_X=True, fit_intercept=True, n_jobs=None, normalize=False)"
      ]
     },
     "execution_count": 19,
     "metadata": {},
     "output_type": "execute_result"
    }
   ],
   "source": [
    "model1 = LinearRegression()\n",
    "model1.fit(X_train,y_train)\n",
    "# prediction = model1.predict(X_test)"
   ]
  },
  {
   "cell_type": "code",
   "execution_count": 20,
   "metadata": {},
   "outputs": [
    {
     "data": {
      "text/plain": [
       "[206877, 233999, 261121, 288243, 315365, 342487, 369609]"
      ]
     },
     "execution_count": 20,
     "metadata": {},
     "output_type": "execute_result"
    }
   ],
   "source": [
    "# We assume there is a positively correlated linear relationship between ev_sales through the range of time depicted below\n",
    "ev_sales_lst = []\n",
    "for x in range(2019,2026):\n",
    "    new_t = model1.predict([[x]])\n",
    "    ev_sales_lst.append(int(new_t))\n",
    "ev_sales_lst"
   ]
  },
  {
   "cell_type": "code",
   "execution_count": 21,
   "metadata": {},
   "outputs": [],
   "source": [
    "X1 = finalized_df[[\"year\"]]\n",
    "y1 = finalized_df[\"tot_sales\"].values.reshape(-1,1)"
   ]
  },
  {
   "cell_type": "code",
   "execution_count": 22,
   "metadata": {},
   "outputs": [],
   "source": [
    "X_train1, X_test1, y_train1, y_test1 = train_test_split(X1, y1, random_state=42)"
   ]
  },
  {
   "cell_type": "code",
   "execution_count": 23,
   "metadata": {},
   "outputs": [
    {
     "data": {
      "text/plain": [
       "LinearRegression(copy_X=True, fit_intercept=True, n_jobs=None, normalize=False)"
      ]
     },
     "execution_count": 23,
     "metadata": {},
     "output_type": "execute_result"
    }
   ],
   "source": [
    "model2 = LinearRegression()\n",
    "model2.fit(X1, y1)"
   ]
  },
  {
   "cell_type": "code",
   "execution_count": 24,
   "metadata": {},
   "outputs": [],
   "source": [
    "model2.fit(X_train1, y_train1)\n",
    "training_score1 = model2.score(X_train1, y_train1)\n",
    "testing_score1 = model2.score(X_test1, y_test1)\n"
   ]
  },
  {
   "cell_type": "code",
   "execution_count": 25,
   "metadata": {},
   "outputs": [
    {
     "name": "stdout",
     "output_type": "stream",
     "text": [
      "MSE: 100426516000.0, R2: -113.21694427748278\n"
     ]
    }
   ],
   "source": [
    "predictions1 = model2.predict(X_test1)\n",
    "tot_sales_MSE = mean_squared_error(y_test1, predictions1)\n",
    "tot_sales_r2 = model.score(X_test1, y_test1)\n",
    "print(f\"MSE: {tot_sales_MSE}, R2: {tot_sales_r2}\")"
   ]
  },
  {
   "cell_type": "code",
   "execution_count": 26,
   "metadata": {},
   "outputs": [
    {
     "data": {
      "text/plain": [
       "[14923140, 15387480, 15851820, 16316160, 16780500, 17244840, 17709180]"
      ]
     },
     "execution_count": 26,
     "metadata": {},
     "output_type": "execute_result"
    }
   ],
   "source": [
    "tot_sales_lst = []\n",
    "for x in range(2019,2026):\n",
    "    new_x = model2.predict([[x]])\n",
    "    tot_sales_lst.append(int(new_x))\n",
    "tot_sales_lst"
   ]
  },
  {
   "cell_type": "code",
   "execution_count": 27,
   "metadata": {},
   "outputs": [
    {
     "data": {
      "text/plain": [
       "Text(0.5, 1.0, 'Residual Plot')"
      ]
     },
     "execution_count": 27,
     "metadata": {},
     "output_type": "execute_result"
    },
    {
     "data": {
      "image/png": "[encoded data removed]",
      "text/plain": [
       "<Figure size 432x288 with 1 Axes>"
      ]
     },
     "metadata": {
      "needs_background": "light"
     },
     "output_type": "display_data"
    }
   ],
   "source": [
    "# Plotting residuals for training and testing data using plotly from matplotlib library\n",
    "plt.scatter(model.predict(X_train), model.predict(X_train) - y_train, c=\"blue\", label=\"Training Data\")\n",
    "plt.scatter(model.predict(X_test), model.predict(X_test) - y_test, c=\"orange\", label=\"Testing Data\")\n",
    "plt.legend()\n",
    "plt.hlines(y=0, xmin=y.min(), xmax=y.max())\n",
    "plt.title(\"Residual Plot\")"
   ]
  },
  {
   "cell_type": "code",
   "execution_count": 28,
   "metadata": {},
   "outputs": [
    {
     "data": {
      "text/plain": [
       "Text(0.5, 1.0, 'Residual Plot')"
      ]
     },
     "execution_count": 28,
     "metadata": {},
     "output_type": "execute_result"
    },
    {
     "data": {
      "image/png": "[encoded data removed]",
      "text/plain": [
       "<Figure size 432x288 with 1 Axes>"
      ]
     },
     "metadata": {
      "needs_background": "light"
     },
     "output_type": "display_data"
    }
   ],
   "source": [
    "plt.scatter(model2.predict(X_train1), model.predict(X_train1) - y_train1, c=\"blue\", label=\"Training Data\")\n",
    "plt.scatter(model2.predict(X_test1), model.predict(X_test1) - y_test1, c=\"orange\", label=\"Testing Data\")\n",
    "plt.legend()\n",
    "plt.hlines(y=0, xmin=y.min(), xmax=y.max())\n",
    "plt.title(\"Residual Plot\")"
   ]
  },
  {
   "cell_type": "code",
   "execution_count": 29,
   "metadata": {},
   "outputs": [],
   "source": [
    "years = [2019,2020,2021,2022,2023,2024,2025]\n",
    "years_df = pd.DataFrame(years, columns=['Year'])\n",
    "df = pd.DataFrame(ev_sales_lst, columns=['Ev_sales'])\n",
    "df1 = pd.DataFrame(tot_sales_lst, columns=['Total_sales'])"
   ]
  },
  {
   "cell_type": "code",
   "execution_count": 30,
   "metadata": {},
   "outputs": [
    {
     "data": {
      "text/html": [
       "<div>\n",
       "<style scoped>\n",
       "    .dataframe tbody tr th:only-of-type {\n",
       "        vertical-align: middle;\n",
       "    }\n",
       "\n",
       "    .dataframe tbody tr th {\n",
       "        vertical-align: top;\n",
       "    }\n",
       "\n",
       "    .dataframe thead th {\n",
       "        text-align: right;\n",
       "    }\n",
       "</style>\n",
       "<table border=\"1\" class=\"dataframe\">\n",
       "  <thead>\n",
       "    <tr style=\"text-align: right;\">\n",
       "      <th></th>\n",
       "      <th>year</th>\n",
       "      <th>total_sales</th>\n",
       "      <th>ev_sales</th>\n",
       "    </tr>\n",
       "  </thead>\n",
       "  <tbody>\n",
       "    <tr>\n",
       "      <th>0</th>\n",
       "      <td>2019</td>\n",
       "      <td>14923140</td>\n",
       "      <td>206877</td>\n",
       "    </tr>\n",
       "    <tr>\n",
       "      <th>1</th>\n",
       "      <td>2020</td>\n",
       "      <td>15387480</td>\n",
       "      <td>233999</td>\n",
       "    </tr>\n",
       "    <tr>\n",
       "      <th>2</th>\n",
       "      <td>2021</td>\n",
       "      <td>15851820</td>\n",
       "      <td>261121</td>\n",
       "    </tr>\n",
       "    <tr>\n",
       "      <th>3</th>\n",
       "      <td>2022</td>\n",
       "      <td>16316160</td>\n",
       "      <td>288243</td>\n",
       "    </tr>\n",
       "    <tr>\n",
       "      <th>4</th>\n",
       "      <td>2023</td>\n",
       "      <td>16780500</td>\n",
       "      <td>315365</td>\n",
       "    </tr>\n",
       "    <tr>\n",
       "      <th>5</th>\n",
       "      <td>2024</td>\n",
       "      <td>17244840</td>\n",
       "      <td>342487</td>\n",
       "    </tr>\n",
       "    <tr>\n",
       "      <th>6</th>\n",
       "      <td>2025</td>\n",
       "      <td>17709180</td>\n",
       "      <td>369609</td>\n",
       "    </tr>\n",
       "  </tbody>\n",
       "</table>\n",
       "</div>"
      ],
      "text/plain": [
       "   year  total_sales  ev_sales\n",
       "0  2019     14923140    206877\n",
       "1  2020     15387480    233999\n",
       "2  2021     15851820    261121\n",
       "3  2022     16316160    288243\n",
       "4  2023     16780500    315365\n",
       "5  2024     17244840    342487\n",
       "6  2025     17709180    369609"
      ]
     },
     "execution_count": 30,
     "metadata": {},
     "output_type": "execute_result"
    }
   ],
   "source": [
    "d = {'year': years, 'total_sales': tot_sales_lst, 'ev_sales': ev_sales_lst}\n",
    "year_vs_sales_df = pd.DataFrame(d)\n",
    "year_vs_sales_df.head(10)"
   ]
  },
  {
   "cell_type": "code",
   "execution_count": null,
   "metadata": {},
   "outputs": [],
   "source": []
  }
 ],
 "metadata": {
  "kernelspec": {
   "display_name": "Python 3.7.6 64-bit ('base')",
   "language": "python",
   "name": "python37664bitbasee99d0193111d4b82bc98aeaae84b53d5"
  },
  "language_info": {
   "codemirror_mode": {
    "name": "ipython",
    "version": 3
   },
   "file_extension": ".py",
   "mimetype": "text/x-python",
   "name": "python",
   "nbconvert_exporter": "python",
   "pygments_lexer": "ipython3",
   "version": "3.7.6"
  }
 },
 "nbformat": 4,
 "nbformat_minor": 4
}
