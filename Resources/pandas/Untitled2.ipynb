{
 "cells": [
  {
   "cell_type": "code",
   "execution_count": null,
   "metadata": {},
   "outputs": [],
   "source": [
    "# R2 = \n",
    "# X3 = final_df[[' year', 'tot_prod', 'tot_sales','total_emission', 'transportation_emission', 'motor_emission',\n",
    "#                'tot_ren_energy', 'gdp_usd', 'gdp_growth_annual%', 'gasprice_per_gal',\n",
    "#                'inflated_gasprice_gal']]\n",
    "# y3 = final_df[\"ev_sales\"].values.reshape(-1,1)\n",
    "\n",
    "X3 = final_df[['year']]\n",
    "y3 = final_df[\"tot_prod\"].values.reshape(-1,1)\n",
    "plt.scatter(X3,y3)"
   ]
  },
  {
   "cell_type": "code",
   "execution_count": null,
   "metadata": {},
   "outputs": [],
   "source": [
    "X3_train, X3_test, y3_train, y3_test = train_test_split(X3, y3, random_state=42)"
   ]
  },
  {
   "cell_type": "code",
   "execution_count": null,
   "metadata": {},
   "outputs": [],
   "source": [
    "model1 = LinearRegression()\n",
    "model1.fit(X3_train,y3_train)"
   ]
  },
  {
   "cell_type": "code",
   "execution_count": null,
   "metadata": {},
   "outputs": [],
   "source": [
    "predictions1 = model3.predict(X3_test)\n",
    "MSE3 = mean_squared_error(y3_test, predictions3)\n",
    "r23 = model3.score(X3_test, y3_test)\n",
    "\n",
    "print(f\"MSE: {MSE3}, R2: {r23}\")"
   ]
  },
  {
   "cell_type": "code",
   "execution_count": null,
   "metadata": {},
   "outputs": [],
   "source": [
    "# We assume there is a positively correlated linear relationship between ev_sales through the range of time depicted below\n",
    "ev_sales_lst = []\n",
    "for x in range(2019,2026):\n",
    "    new_t = model3.predict([[x]])\n",
    "    ev_sales_lst.append(int(new_t))\n",
    "ev_sales_lst"
   ]
  }
 ],
 "metadata": {
  "kernelspec": {
   "display_name": "Python 3.6.10 64-bit ('PythonData': conda)",
   "language": "python",
   "name": "python361064bitpythondataconda3ce15943e36d47fe80658a877842692c"
  },
  "language_info": {
   "codemirror_mode": {
    "name": "ipython",
    "version": 3
   },
   "file_extension": ".py",
   "mimetype": "text/x-python",
   "name": "python",
   "nbconvert_exporter": "python",
   "pygments_lexer": "ipython3",
   "version": "3.6.10"
  }
 },
 "nbformat": 4,
 "nbformat_minor": 4
}
