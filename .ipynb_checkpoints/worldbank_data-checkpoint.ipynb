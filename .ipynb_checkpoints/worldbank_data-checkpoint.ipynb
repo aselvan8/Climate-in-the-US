{
 "cells": [
  {
   "cell_type": "code",
   "execution_count": 1,
   "metadata": {},
   "outputs": [],
   "source": [
    "import pandas as pd\n",
    "import requests\n",
    "import wbpy\n",
    "from pprint import pprint\n",
    "import json\n",
    "import csv"
   ]
  },
  {
   "cell_type": "code",
   "execution_count": null,
   "metadata": {},
   "outputs": [],
   "source": [
    "# url = \"http://climatedataapi.worldbank.org/climateweb/rest/\"\n",
    "# api_format = \"json\"\n",
    "\n",
    "# # Get country information in JSON format\n",
    "# countries_response = requests.get(f\"{url}countries?format={api_format}\").json()\n",
    "\n",
    "# # First element is general information, second is countries themselves\n",
    "# countries = countries_response[1]"
   ]
  },
  {
   "cell_type": "code",
   "execution_count": null,
   "metadata": {},
   "outputs": [],
   "source": [
    "api = wbpy.IndicatorAPI()\n",
    "\n",
    "iso_country_code = [\"USA\"]\n",
    "total_population = \"SP.POP.TOTL\"\n",
    "dataset = api.get_dataset(total_population, iso_country_code, date=\"1990:2020\")\n",
    "dataset"
   ]
  },
  {
   "cell_type": "code",
   "execution_count": null,
   "metadata": {},
   "outputs": [],
   "source": [
    "pprint(dataset.as_dict())"
   ]
  },
  {
   "cell_type": "code",
   "execution_count": null,
   "metadata": {},
   "outputs": [],
   "source": [
    "pprint(dataset.api_response)"
   ]
  },
  {
   "cell_type": "code",
   "execution_count": null,
   "metadata": {},
   "outputs": [],
   "source": [
    "c_api = wbpy.ClimateAPI()\n",
    "\n",
    "c_api.ARG_DEFINITIONS[\"instrumental_types\"]"
   ]
  },
  {
   "cell_type": "code",
   "execution_count": null,
   "metadata": {},
   "outputs": [],
   "source": [
    "c_api.ARG_DEFINITIONS[\"instrumental_intervals\"]"
   ]
  },
  {
   "cell_type": "code",
   "execution_count": null,
   "metadata": {},
   "outputs": [],
   "source": [
    "c_api.ARG_DEFINITIONS[\"modelled_types\"]"
   ]
  },
  {
   "cell_type": "code",
   "execution_count": null,
   "metadata": {},
   "outputs": [],
   "source": [
    "c_api.ARG_DEFINITIONS[\"modelled_intervals\"]"
   ]
  },
  {
   "cell_type": "code",
   "execution_count": null,
   "metadata": {},
   "outputs": [],
   "source": [
    "locations = [\"US\"]\n",
    "modelled_dataset = c_api.get_modelled(\"pr\", \"annualavg\", locations)\n",
    "modelled_dataset"
   ]
  },
  {
   "cell_type": "code",
   "execution_count": null,
   "metadata": {},
   "outputs": [],
   "source": [
    "pprint(modelled_dataset.as_dict(sres=\"a2\"))"
   ]
  },
  {
   "cell_type": "code",
   "execution_count": 19,
   "metadata": {},
   "outputs": [
    {
     "data": {
      "text/plain": [
       "[{'year': 1901, 'data': 6.6187487},\n",
       " {'year': 1902, 'data': 6.4643273},\n",
       " {'year': 1903, 'data': 6.073844},\n",
       " {'year': 1904, 'data': 6.149883},\n",
       " {'year': 1905, 'data': 6.599617},\n",
       " {'year': 1906, 'data': 6.5228577},\n",
       " {'year': 1907, 'data': 6.3265276},\n",
       " {'year': 1908, 'data': 6.6985435},\n",
       " {'year': 1909, 'data': 6.037902},\n",
       " {'year': 1910, 'data': 6.572676},\n",
       " {'year': 1911, 'data': 6.6003304},\n",
       " {'year': 1912, 'data': 6.3779836},\n",
       " {'year': 1913, 'data': 6.5980864},\n",
       " {'year': 1914, 'data': 6.960702},\n",
       " {'year': 1915, 'data': 6.8052955},\n",
       " {'year': 1916, 'data': 6.159147},\n",
       " {'year': 1917, 'data': 5.670571},\n",
       " {'year': 1918, 'data': 6.3653173},\n",
       " {'year': 1919, 'data': 6.4881067},\n",
       " {'year': 1920, 'data': 6.0916157},\n",
       " {'year': 1921, 'data': 7.385264},\n",
       " {'year': 1922, 'data': 6.6565332},\n",
       " {'year': 1923, 'data': 6.807252},\n",
       " {'year': 1924, 'data': 6.0486555},\n",
       " {'year': 1925, 'data': 6.9437246},\n",
       " {'year': 1926, 'data': 7.3156495},\n",
       " {'year': 1927, 'data': 6.5663652},\n",
       " {'year': 1928, 'data': 6.933179},\n",
       " {'year': 1929, 'data': 6.5713944},\n",
       " {'year': 1930, 'data': 6.689477},\n",
       " {'year': 1931, 'data': 7.4942217},\n",
       " {'year': 1932, 'data': 6.477624},\n",
       " {'year': 1933, 'data': 6.762614},\n",
       " {'year': 1934, 'data': 7.6559515},\n",
       " {'year': 1935, 'data': 6.7448707},\n",
       " {'year': 1936, 'data': 6.950971},\n",
       " {'year': 1937, 'data': 6.838399},\n",
       " {'year': 1938, 'data': 7.416555},\n",
       " {'year': 1939, 'data': 7.1446433},\n",
       " {'year': 1940, 'data': 7.2885513},\n",
       " {'year': 1941, 'data': 7.365968},\n",
       " {'year': 1942, 'data': 7.005437},\n",
       " {'year': 1943, 'data': 6.997035},\n",
       " {'year': 1944, 'data': 6.9751916},\n",
       " {'year': 1945, 'data': 6.656516},\n",
       " {'year': 1946, 'data': 7.023234},\n",
       " {'year': 1947, 'data': 6.850766},\n",
       " {'year': 1948, 'data': 6.3691163},\n",
       " {'year': 1949, 'data': 6.8932548},\n",
       " {'year': 1950, 'data': 6.6314125},\n",
       " {'year': 1951, 'data': 6.411795},\n",
       " {'year': 1952, 'data': 6.914982},\n",
       " {'year': 1953, 'data': 7.4295907},\n",
       " {'year': 1954, 'data': 7.194499},\n",
       " {'year': 1955, 'data': 6.3436875},\n",
       " {'year': 1956, 'data': 6.3972116},\n",
       " {'year': 1957, 'data': 7.1971045},\n",
       " {'year': 1958, 'data': 7.0539527},\n",
       " {'year': 1959, 'data': 6.6787567},\n",
       " {'year': 1960, 'data': 6.7200975},\n",
       " {'year': 1961, 'data': 6.492202},\n",
       " {'year': 1962, 'data': 6.9103217},\n",
       " {'year': 1963, 'data': 7.016024},\n",
       " {'year': 1964, 'data': 6.2749743},\n",
       " {'year': 1965, 'data': 6.4657106},\n",
       " {'year': 1966, 'data': 6.2815533},\n",
       " {'year': 1967, 'data': 6.8660445},\n",
       " {'year': 1968, 'data': 6.48026},\n",
       " {'year': 1969, 'data': 6.7636886},\n",
       " {'year': 1970, 'data': 6.5991926},\n",
       " {'year': 1971, 'data': 6.234191},\n",
       " {'year': 1972, 'data': 6.2434025},\n",
       " {'year': 1973, 'data': 6.8392715},\n",
       " {'year': 1974, 'data': 6.6009254},\n",
       " {'year': 1975, 'data': 6.2090316},\n",
       " {'year': 1976, 'data': 6.4971757},\n",
       " {'year': 1977, 'data': 7.2084436},\n",
       " {'year': 1978, 'data': 6.8957963},\n",
       " {'year': 1979, 'data': 6.694786},\n",
       " {'year': 1980, 'data': 7.066892},\n",
       " {'year': 1981, 'data': 7.767236},\n",
       " {'year': 1982, 'data': 6.4656076},\n",
       " {'year': 1983, 'data': 6.9508657},\n",
       " {'year': 1984, 'data': 6.6931024},\n",
       " {'year': 1985, 'data': 6.547124},\n",
       " {'year': 1986, 'data': 7.4475794},\n",
       " {'year': 1987, 'data': 7.6064095},\n",
       " {'year': 1988, 'data': 7.2044106},\n",
       " {'year': 1989, 'data': 6.8280497},\n",
       " {'year': 1990, 'data': 7.3916855},\n",
       " {'year': 1991, 'data': 7.500322},\n",
       " {'year': 1992, 'data': 6.967962},\n",
       " {'year': 1993, 'data': 7.0994253},\n",
       " {'year': 1994, 'data': 7.285927},\n",
       " {'year': 1995, 'data': 7.419545},\n",
       " {'year': 1996, 'data': 6.6995897},\n",
       " {'year': 1997, 'data': 7.05227},\n",
       " {'year': 1998, 'data': 8.045993},\n",
       " {'year': 1999, 'data': 7.1595945},\n",
       " {'year': 2000, 'data': 7.431657},\n",
       " {'year': 2001, 'data': 7.5720034},\n",
       " {'year': 2002, 'data': 7.750373},\n",
       " {'year': 2003, 'data': 7.688549},\n",
       " {'year': 2004, 'data': 7.6693993},\n",
       " {'year': 2005, 'data': 7.8577776},\n",
       " {'year': 2006, 'data': 7.8864813},\n",
       " {'year': 2007, 'data': 7.8060584},\n",
       " {'year': 2008, 'data': 6.935361},\n",
       " {'year': 2009, 'data': 7.1020646},\n",
       " {'year': 2010, 'data': 7.4091196},\n",
       " {'year': 2011, 'data': 7.405612},\n",
       " {'year': 2012, 'data': 7.939524}]"
      ]
     },
     "execution_count": 19,
     "metadata": {},
     "output_type": "execute_result"
    }
   ],
   "source": [
    "base_url = \"http://climatedataapi.worldbank.org/climateweb/rest/v1/country\"\n",
    "response = requests.get(f\"{base_url}/cru/tas/year/USA\")\n",
    "response_json = response.json()\n",
    "\n",
    "response_json\n",
    "# if response.status_code != 200:\n",
    "#     print('Failed to get data:', response.status_code)\n",
    "# else:\n",
    "#     print('First 100 characters of data are')\n",
    "#     print(response.text[:100])"
   ]
  },
  {
   "cell_type": "code",
   "execution_count": null,
   "metadata": {},
   "outputs": [],
   "source": []
  }
 ],
 "metadata": {
  "kernelspec": {
   "display_name": "Python 3.6.10 64-bit ('PythonData': conda)",
   "language": "python",
   "name": "python361064bitpythondataconda3ce15943e36d47fe80658a877842692c"
  },
  "language_info": {
   "codemirror_mode": {
    "name": "ipython",
    "version": 3
   },
   "file_extension": ".py",
   "mimetype": "text/x-python",
   "name": "python",
   "nbconvert_exporter": "python",
   "pygments_lexer": "ipython3",
   "version": "3.6.10"
  }
 },
 "nbformat": 4,
 "nbformat_minor": 4
}
